{
 "cells": [
  {
   "cell_type": "code",
   "execution_count": 1,
   "id": "0f1a2b50-f7ab-4b5a-977f-3f261e4f74fd",
   "metadata": {},
   "outputs": [
    {
     "name": "stdout",
     "output_type": "stream",
     "text": [
      "Nulos:\n",
      "Date      0\n",
      "Open      0\n",
      "High      0\n",
      "Low       0\n",
      "Close     0\n",
      "Volume    0\n",
      "dtype: int64\n",
      " duplicados: 0\n",
      "Open      0\n",
      "High      0\n",
      "Low       0\n",
      "Close     0\n",
      "Volume    0\n",
      "dtype: int64\n",
      "Inconsistencia:\n",
      "Empty DataFrame\n",
      "Columns: [Date, Open, High, Low, Close, Volume]\n",
      "Index: []\n"
     ]
    }
   ],
   "source": [
    "import pandas as pd \n",
    "import  matplotlib.pyplot as plt\n",
    "from main import leitura_csv"
   ]
  },
  {
   "cell_type": "code",
   "execution_count": 2,
   "id": "8e9e926e-5b81-4a9d-b511-496e5c3cbf7f",
   "metadata": {},
   "outputs": [],
   "source": [
    "def evoluçao_close():\n",
    "    plt.figure(figsize=(12,6))\n",
    "    plt.plot(df['Date'], df['Close'], label='Preço de Fechamento', color='blue')\n",
    "    plt.title('Preço de Fechamento da Ação da Google (2015-2024)')\n",
    "    plt.xlabel('Data')\n",
    "    plt.ylabel('Preço ($)')\n",
    "    plt.grid(True)\n",
    "    plt.legend()\n",
    "    plt.show()"
   ]
  },
  {
   "cell_type": "code",
   "execution_count": 3,
   "id": "4532a4bc-bfc0-4d3f-b208-2ec0e503ba58",
   "metadata": {},
   "outputs": [],
   "source": [
    "def media_volume():\n",
    "    df = leitura_csv()\n",
    "    df['month'] = df['Date'].dt.month\n",
    "    df['year'] = df['Date'].dt.year\n",
    "    media = df.groupby(['year', 'month'])['Volume'].mean()\n",
    "\n",
    "    plt.figure(figsize=(15, 7)) \n",
    "    media.plot(kind='bar', color='skyblue') \n",
    "    plt.title('Média Mensal de Volume por Ano')\n",
    "    plt.xlabel('Ano e Mês')\n",
    "    plt.ylabel('Volume Médio')\n",
    "    plt.xticks(rotation=45)\n",
    "    plt.grid(axis='y', linestyle='--', alpha=0.7)\n",
    "    plt.tight_layout()\n",
    "    plt.show()\n"
   ]
  },
  {
   "cell_type": "code",
   "execution_count": 4,
   "id": "dd059906-6ae1-4b31-92e2-5cbd23075dbc",
   "metadata": {},
   "outputs": [],
   "source": [
    "def variacao_preço_ano():\n",
    "    df = leitura_csv()\n",
    "    df['year'] = df['Date'].dt.year\n",
    "    variacao = df.groupby('year')['Close'].agg(lambda x: x.max() - x.min())\n",
    "    print(variacao)\n",
    "    plt.figure(figsize=(12,6))\n",
    "    variacao.plot(kind='bar', color='tomato', edgecolor='black')\n",
    "    plt.title('Variação Anual do Preço de Fechamento das Ações da Google')\n",
    "    plt.xlabel('Ano')\n",
    "    plt.ylabel('Variação de Preço ($)')\n",
    "    plt.grid(axis='y', linestyle='--', alpha=0.7)\n",
    "    plt.tight_layout()\n",
    "    plt.show()"
   ]
  },
  {
   "cell_type": "code",
   "execution_count": 5,
   "id": "a8968233-c62a-4b16-af2c-2ea6e0cc6572",
   "metadata": {},
   "outputs": [],
   "source": [
    "def desvio_padrao():\n",
    "    df = leitura_csv()\n",
    "    df['year'] = df['Date'].dt.year\n",
    "    df['month'] = df['Date'].dt.month\n",
    "    desvio_padrao = df.groupby(['year','month'])['Close'].std().unstack()\n",
    "    print(desvio_padrao)\n",
    "    plt.figure(figsize=(15, 6))\n",
    "    plt.imshow(desvio_padrao, aspect='auto', cmap='hot', interpolation='nearest')\n",
    "    plt.title('Volatilidade Mensal do Preço de Fechamento (Desvio Padrão)')\n",
    "    plt.xlabel('Mês')\n",
    "    plt.ylabel('Ano')\n",
    "    plt.colorbar(label='Desvio Padrão')\n",
    "    plt.xticks(ticks=range(12), labels=range(1, 13))\n",
    "    plt.yticks(ticks=range(len(desvio_padrao.index)), labels=desvio_padrao.index)\n",
    "    plt.show()"
   ]
  },
  {
   "cell_type": "code",
   "execution_count": 6,
   "id": "0a47b0a6-f8c4-48e3-93ed-f290cad4a414",
   "metadata": {},
   "outputs": [],
   "source": [
    "def analise_de_tendencias():\n",
    "    df = leitura_csv()\n",
    "    df['media_movel'] = df['Close'].rolling(window=30).mean()\n",
    "    print(df['media_movel'])\n",
    "    plt.figure(figsize=(15, 6))\n",
    "    plt.plot(df['Date'], df['Close'], label='Preço de Fechamento', alpha=0.5)\n",
    "    plt.plot(df['Date'], df['media_movel'], label='Média Móvel (30 dias)', color='red')\n",
    "    plt.title('Tendência do Preço de Fechamento com Média Móvel (30 dias)')\n",
    "    plt.xlabel('Data')\n",
    "    plt.ylabel('Preço ($)')\n",
    "    plt.legend()\n",
    "    plt.grid(True)\n",
    "    plt.tight_layout()\n",
    "    plt.show()"
   ]
  },
  {
   "cell_type": "code",
   "execution_count": 9,
   "id": "9897b798-2c33-45d7-9560-1c6889027b32",
   "metadata": {},
   "outputs": [],
   "source": [
    "def detecta_anomalias(ano_escolhido=2022):\n",
    "    df = leitura_csv()\n",
    "    \n",
    "    # Filtrar apenas o ano desejado\n",
    "    df['year'] = df['Date'].dt.year\n",
    "    df = df[df['year'] == ano_escolhido]\n",
    "    \n",
    "    # Extrair mês e dia\n",
    "    df['month'] = df['Date'].dt.month\n",
    "    df['day'] = df['Date'].dt.day\n",
    "\n",
    "    # Calcular média e desvio padrão por mês e dia DENTRO DO ANO\n",
    "    medias = df.groupby(['month', 'day'])['Close'].mean()\n",
    "    desvios = df.groupby(['month', 'day'])['Close'].std()\n",
    "\n",
    "    # Atribuir os valores de média e desvio para cada linha do DataFrame\n",
    "    df['media_dia'] = df.set_index(['month', 'day']).index.map(medias)\n",
    "    df['std_dia'] = df.set_index(['month', 'day']).index.map(desvios)\n",
    "\n",
    "    # Detectar anomalias\n",
    "    df['anomalia'] = (df['Close'] > df['media_dia'] + 2 * df['std_dia']) | \\\n",
    "                     (df['Close'] < df['media_dia'] - 2 * df['std_dia'])\n",
    "\n",
    "    # Visualização\n",
    "    import matplotlib.pyplot as plt\n",
    "    plt.figure(figsize=(15, 6))\n",
    "    plt.plot(df['Date'], df['Close'], label='Fechamento')\n",
    "    plt.scatter(df[df['anomalia']]['Date'], df[df['anomalia']]['Close'],\n",
    "                color='red', label='Anomalias', zorder=5)\n",
    "    plt.title(f'Anomalias no Preço de Fechamento em {ano_escolhido}')\n",
    "    plt.xlabel('Data')\n",
    "    plt.ylabel('Preço de Fechamento ($)')\n",
    "    plt.legend()\n",
    "    plt.grid(True)\n",
    "    plt.tight_layout()\n",
    "    plt.show()\n"
   ]
  },
  {
   "cell_type": "code",
   "execution_count": 10,
   "id": "80a0296a-e364-4bbd-8548-29cf7f64b48a",
   "metadata": {},
   "outputs": [
    {
     "ename": "NameError",
     "evalue": "name 'detectçao_anomalias' is not defined",
     "output_type": "error",
     "traceback": [
      "\u001b[1;31m---------------------------------------------------------------------------\u001b[0m",
      "\u001b[1;31mNameError\u001b[0m                                 Traceback (most recent call last)",
      "\u001b[1;32m~\\AppData\\Local\\Temp\\ipykernel_17600\\719808270.py\u001b[0m in \u001b[0;36m<module>\u001b[1;34m\u001b[0m\n\u001b[1;32m----> 1\u001b[1;33m \u001b[0mdetectçao_anomalias\u001b[0m\u001b[1;33m(\u001b[0m\u001b[1;33m)\u001b[0m\u001b[1;33m\u001b[0m\u001b[1;33m\u001b[0m\u001b[0m\n\u001b[0m",
      "\u001b[1;31mNameError\u001b[0m: name 'detectçao_anomalias' is not defined"
     ]
    }
   ],
   "source": [
    "detectçao_anomalias()"
   ]
  },
  {
   "cell_type": "code",
   "execution_count": null,
   "id": "df5e57d8-c5b6-4442-9c29-5759175ecaf9",
   "metadata": {},
   "outputs": [],
   "source": []
  }
 ],
 "metadata": {
  "kernelspec": {
   "display_name": "Python 3 (ipykernel)",
   "language": "python",
   "name": "python3"
  },
  "language_info": {
   "codemirror_mode": {
    "name": "ipython",
    "version": 3
   },
   "file_extension": ".py",
   "mimetype": "text/x-python",
   "name": "python",
   "nbconvert_exporter": "python",
   "pygments_lexer": "ipython3",
   "version": "3.9.13"
  }
 },
 "nbformat": 4,
 "nbformat_minor": 5
}
