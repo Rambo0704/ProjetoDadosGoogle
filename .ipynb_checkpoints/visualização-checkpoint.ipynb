{
 "cells": [
  {
   "cell_type": "code",
   "execution_count": 1,
   "id": "0f1a2b50-f7ab-4b5a-977f-3f261e4f74fd",
   "metadata": {},
   "outputs": [
    {
     "name": "stdout",
     "output_type": "stream",
     "text": [
      "Nulos:\n",
      "Date      0\n",
      "Open      0\n",
      "High      0\n",
      "Low       0\n",
      "Close     0\n",
      "Volume    0\n",
      "dtype: int64\n",
      " duplicados: 0\n",
      "Open      0\n",
      "High      0\n",
      "Low       0\n",
      "Close     0\n",
      "Volume    0\n",
      "dtype: int64\n",
      "Inconsistencia:\n",
      "Empty DataFrame\n",
      "Columns: [Date, Open, High, Low, Close, Volume]\n",
      "Index: []\n"
     ]
    }
   ],
   "source": [
    "import pandas as pd \n",
    "import numpy as np\n",
    "import  matplotlib.pyplot as plt\n",
    "from main import leitura_csv"
   ]
  },
  {
   "cell_type": "code",
   "execution_count": 2,
   "id": "8e9e926e-5b81-4a9d-b511-496e5c3cbf7f",
   "metadata": {},
   "outputs": [],
   "source": [
    "def evoluçao_close():\n",
    "    plt.figure(figsize=(12,6))\n",
    "    plt.plot(df['Date'], df['Close'], label='Preço de Fechamento', color='blue')\n",
    "    plt.title('Preço de Fechamento da Ação da Google (2015-2024)')\n",
    "    plt.xlabel('Data')\n",
    "    plt.ylabel('Preço ($)')\n",
    "    plt.grid(True)\n",
    "    plt.legend()\n",
    "    plt.show()"
   ]
  },
  {
   "cell_type": "code",
   "execution_count": 3,
   "id": "4532a4bc-bfc0-4d3f-b208-2ec0e503ba58",
   "metadata": {},
   "outputs": [],
   "source": [
    "def media_volume():\n",
    "    df = leitura_csv()\n",
    "    df['month'] = df['Date'].dt.month\n",
    "    df['year'] = df['Date'].dt.year\n",
    "    media = df.groupby(['year', 'month'])['Volume'].mean()\n",
    "\n",
    "    plt.figure(figsize=(15, 7)) \n",
    "    media.plot(kind='bar', color='skyblue') \n",
    "    plt.title('Média Mensal de Volume por Ano')\n",
    "    plt.xlabel('Ano e Mês')\n",
    "    plt.ylabel('Volume Médio')\n",
    "    plt.xticks(rotation=45)\n",
    "    plt.grid(axis='y', linestyle='--', alpha=0.7)\n",
    "    plt.tight_layout()\n",
    "    plt.show()\n"
   ]
  },
  {
   "cell_type": "code",
   "execution_count": 4,
   "id": "dd059906-6ae1-4b31-92e2-5cbd23075dbc",
   "metadata": {},
   "outputs": [],
   "source": [
    "def variacao_preço_ano():\n",
    "    df = leitura_csv()\n",
    "    df['year'] = df['Date'].dt.year\n",
    "    variacao = df.groupby('year')['Close'].agg(lambda x: x.max() - x.min())\n",
    "    print(variacao)\n",
    "    plt.figure(figsize=(12,6))\n",
    "    variacao.plot(kind='bar', color='tomato', edgecolor='black')\n",
    "    plt.title('Variação Anual do Preço de Fechamento das Ações da Google')\n",
    "    plt.xlabel('Ano')\n",
    "    plt.ylabel('Variação de Preço ($)')\n",
    "    plt.grid(axis='y', linestyle='--', alpha=0.7)\n",
    "    plt.tight_layout()\n",
    "    plt.show()"
   ]
  },
  {
   "cell_type": "code",
   "execution_count": 5,
   "id": "a8968233-c62a-4b16-af2c-2ea6e0cc6572",
   "metadata": {},
   "outputs": [],
   "source": [
    "def desvio_padrao():\n",
    "    df = leitura_csv()\n",
    "    df['year'] = df['Date'].dt.year\n",
    "    df['month'] = df['Date'].dt.month\n",
    "    desvio_padrao = df.groupby(['year','month'])['Close'].std().unstack()\n",
    "    print(desvio_padrao)\n",
    "    plt.figure(figsize=(15, 6))\n",
    "    plt.imshow(desvio_padrao, aspect='auto', cmap='hot', interpolation='nearest')\n",
    "    plt.title('Volatilidade Mensal do Preço de Fechamento (Desvio Padrão)')\n",
    "    plt.xlabel('Mês')\n",
    "    plt.ylabel('Ano')\n",
    "    plt.colorbar(label='Desvio Padrão')\n",
    "    plt.xticks(ticks=range(12), labels=range(1, 13))\n",
    "    plt.yticks(ticks=range(len(desvio_padrao.index)), labels=desvio_padrao.index)\n",
    "    plt.show()"
   ]
  },
  {
   "cell_type": "code",
   "execution_count": 6,
   "id": "0a47b0a6-f8c4-48e3-93ed-f290cad4a414",
   "metadata": {},
   "outputs": [],
   "source": [
    "def analise_de_tendencias():\n",
    "    df = leitura_csv()\n",
    "    df['media_movel'] = df['Close'].rolling(window=30).mean()\n",
    "    print(df['media_movel'])\n",
    "    plt.figure(figsize=(15, 6))\n",
    "    plt.plot(df['Date'], df['Close'], label='Preço de Fechamento', alpha=0.5)\n",
    "    plt.plot(df['Date'], df['media_movel'], label='Média Móvel (30 dias)', color='red')\n",
    "    plt.title('Tendência do Preço de Fechamento com Média Móvel (30 dias)')\n",
    "    plt.xlabel('Data')\n",
    "    plt.ylabel('Preço ($)')\n",
    "    plt.legend()\n",
    "    plt.grid(True)\n",
    "    plt.tight_layout()\n",
    "    plt.show()"
   ]
  },
  {
   "cell_type": "code",
   "execution_count": 7,
   "id": "9897b798-2c33-45d7-9560-1c6889027b32",
   "metadata": {},
   "outputs": [],
   "source": [
    "def detecta_anomalias(ano_escolhido=2020):\n",
    "    df = leitura_csv()\n",
    "    df['year'] = df['Date'].dt.year\n",
    "    df = df[df['year'] == ano_escolhido]\n",
    "    df['month'] = df['Date'].dt.month\n",
    "    df['day'] = df['Date'].dt.day\n",
    "    medias = df.groupby(['month', 'day'])['Close'].mean()\n",
    "    desvios = df.groupby(['month', 'day'])['Close'].std()\n",
    "\n",
    "    df['media_dia'] = df.apply(lambda row: medias.loc[(row['month'], row['day'])], axis=1)\n",
    "    df['std_dia'] = df.apply(lambda row: desvios.loc[(row['month'], row['day'])], axis=1)\n",
    "\n",
    "    df['anomalia'] = (df['Close'] > df['media_dia'] + 2 * df['std_dia']) | \\\n",
    "                     (df['Close'] < df['media_dia'] - 2 * df['std_dia'])\n",
    "\n",
    "    import matplotlib.pyplot as plt\n",
    "    plt.figure(figsize=(15, 6))\n",
    "    plt.plot(df['Date'], df['Close'], label='Fechamento')\n",
    "    plt.scatter(df[df['anomalia']]['Date'], df[df['anomalia']]['Close'],\n",
    "                color='red', label='Anomalias', zorder=5)\n",
    "    plt.title(f'Anomalias no Preço de Fechamento em {ano_escolhido}')\n",
    "    plt.xlabel('Data')\n",
    "    plt.ylabel('Preço de Fechamento ($)')\n",
    "    plt.legend()\n",
    "    plt.grid(True)\n",
    "    plt.tight_layout()\n",
    "    plt.show()\n"
   ]
  },
  {
   "cell_type": "code",
   "execution_count": 8,
   "id": "80a0296a-e364-4bbd-8548-29cf7f64b48a",
   "metadata": {},
   "outputs": [],
   "source": [
    "def prev_tendencias():\n",
    "    df = leitura_csv()\n",
    "    df['media_curta'] = df['Close'].rolling(window = 20).mean()\n",
    "    df['media_longa'] = df['Close'].rolling(window = 50).mean()\n",
    "    df['compra'] = (df['media_curta'] > df['media_longa']) & (df['media_curta'].shift(1) <= df['media_longa'].shift(1))\n",
    "    df['venda'] = (df['media_curta'] < df['media_longa']) & (df['media_curta'].shift(1) >= df['media_longa'].shift(1))\n",
    "    \n",
    "    plt.figure(figsize=(15,6))\n",
    "    plt.plot(df['Date'], df['Close'], label='Preço Fechamento', color='gray', alpha=0.4)\n",
    "    plt.plot(df['Date'], df['media_curta'], label='Média Curta (20)', color='blue')\n",
    "    plt.plot(df['Date'], df['media_longa'], label='Média Longa (50)', color='orange')\n",
    "\n",
    "    # Sinais\n",
    "    plt.scatter(df.loc[df['compra'], 'Date'], df.loc[df['compra'], 'Close'], label='Compra', marker='^', color='green', s=100)\n",
    "    plt.scatter(df.loc[df['venda'], 'Date'], df.loc[df['venda'], 'Close'], label='Venda', marker='v', color='red', s=100)\n",
    "\n",
    "    plt.title('Análise de Tendência com Médias Móveis')\n",
    "    plt.xlabel('Data')\n",
    "    plt.ylabel('Preço ($)')\n",
    "    plt.legend()\n",
    "    plt.grid(True)\n",
    "    plt.tight_layout()\n",
    "    plt.show()"
   ]
  },
  {
   "cell_type": "code",
   "execution_count": 9,
   "id": "700cda31-6f41-49de-b3bd-47737bceb838",
   "metadata": {},
   "outputs": [],
   "source": [
    "def retorno_diario():\n",
    "    df = leitura_csv()\n",
    "    df['retorno_diario'] = df['Close'].pct_change()\n",
    "    plt.figure(figsize=(10, 6))\n",
    "    plt.hist(df['retorno_diario'].dropna(), bins=50, color='skyblue', edgecolor='black')\n",
    "    plt.title('Distribuição dos Retornos Diários')\n",
    "    plt.xlabel('Retorno Diário (%)')\n",
    "    plt.ylabel('Frequência')\n",
    "    plt.grid(True)\n",
    "    plt.tight_layout()\n",
    "    plt.show()\n",
    "    media = df['retorno_diario'].mean()\n",
    "    desvio = df['retorno_diario'].std()\n",
    "    print(f\"Media:{media}\")\n",
    "    print(f\"Desvio:{desvio}\")"
   ]
  },
  {
   "cell_type": "code",
   "execution_count": 10,
   "id": "baf497ea-0295-4790-956e-c99445ef1164",
   "metadata": {},
   "outputs": [],
   "source": [
    "def volatilidade_anual():\n",
    "    df = leitura_csv()\n",
    "    df['retorno_diario'] = df['Close'].pct_change()\n",
    "    df['year'] = df['Date'].dt.year\n",
    "    volatilidade_anual = df.groupby('year')['retorno_diario'].std()*np.sqrt(252) #multiplicando pelo numero medio de pregoes(dias uteis da bolsa) por ano\n",
    "    plt.figure(figsize=(12, 6))\n",
    "    volatilidade_anual.plot(kind='bar', color='salmon', edgecolor='black')\n",
    "    plt.title('Volatilidade Anual das Ações')\n",
    "    plt.xlabel('Ano')\n",
    "    plt.ylabel('Volatilidade Anual (Desvio Padrão)')\n",
    "    plt.grid(axis='y', linestyle='--', alpha=0.7)\n",
    "    plt.tight_layout()\n",
    "    plt.show()\n",
    "    return volatilidade_anual"
   ]
  },
  {
   "cell_type": "code",
   "execution_count": 23,
   "id": "3c40c834-f9e2-4deb-9cc4-afa5bd5099d3",
   "metadata": {},
   "outputs": [],
   "source": [
    "def sharpe_ratio_anual():\n",
    "    df = leitura_csv()\n",
    "    df['retorno_diario'] = df['Close'].pct_change()\n",
    "    df['year'] = df['Date'].dt.year\n",
    "    retorno_medio_anual = df.groupby('year')['retorno_diario'].mean()*253\n",
    "    volatilidade_anual = df.groupby('year')['retorno_diario'].std()*np.sqrt(252)\n",
    "    sharpe_ratio = retorno_medio_anual/volatilidade_anual\n",
    "    print(sharpe_ratio)\n",
    "    plt.figure(figsize=(12, 6))\n",
    "    sharpe_ratio.plot(kind='bar', color='mediumseagreen', edgecolor='black')\n",
    "    plt.title('Sharpe Ratio Anual')\n",
    "    plt.xlabel('Ano')\n",
    "    plt.ylabel('Sharpe Ratio')\n",
    "    plt.axhline(y=1, color='red', linestyle='--', label='Referência: 1.0')\n",
    "    plt.grid(axis='y', linestyle=':', alpha=0.7)\n",
    "    plt.legend()\n",
    "    plt.tight_layout()\n",
    "    plt.show()\n"
   ]
  },
  {
   "cell_type": "code",
   "execution_count": 25,
   "id": "9f98a5e7-d255-4d5f-b637-81526fd0f631",
   "metadata": {},
   "outputs": [
    {
     "ename": "SyntaxError",
     "evalue": "incomplete input (1681435629.py, line 1)",
     "output_type": "error",
     "traceback": [
      "\u001b[1;36m  Cell \u001b[1;32mIn[25], line 1\u001b[1;36m\u001b[0m\n\u001b[1;33m    def identificar_drawdowns():\u001b[0m\n\u001b[1;37m                                ^\u001b[0m\n\u001b[1;31mSyntaxError\u001b[0m\u001b[1;31m:\u001b[0m incomplete input\n"
     ]
    }
   ],
   "source": [
    "def identificar_drawdowns():\n",
    "    df = leitura_csv()"
   ]
  },
  {
   "cell_type": "code",
   "execution_count": null,
   "id": "c41d837e-366f-4434-865f-37914dc28225",
   "metadata": {},
   "outputs": [],
   "source": []
  }
 ],
 "metadata": {
  "kernelspec": {
   "display_name": "Python 3 (ipykernel)",
   "language": "python",
   "name": "python3"
  },
  "language_info": {
   "codemirror_mode": {
    "name": "ipython",
    "version": 3
   },
   "file_extension": ".py",
   "mimetype": "text/x-python",
   "name": "python",
   "nbconvert_exporter": "python",
   "pygments_lexer": "ipython3",
   "version": "3.12.7"
  }
 },
 "nbformat": 4,
 "nbformat_minor": 5
}
