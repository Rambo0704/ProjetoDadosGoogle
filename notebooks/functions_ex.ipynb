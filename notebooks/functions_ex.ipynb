{
 "cells": [
  {
   "cell_type": "code",
   "execution_count": 1,
   "id": "0f1a2b50-f7ab-4b5a-977f-3f261e4f74fd",
   "metadata": {},
   "outputs": [],
   "source": [
    "import pandas as pd \n",
    "import numpy as np\n",
    "import  matplotlib.pyplot as plt\n",
    "from utils import leitura_csv"
   ]
  },
  {
   "cell_type": "code",
   "execution_count": null,
   "id": "8e9e926e-5b81-4a9d-b511-496e5c3cbf7f",
   "metadata": {},
   "outputs": [],
   "source": [
    "def evoluçao_close():\n",
    "    df = leitura_csv()\n",
    "    plt.figure(figsize=(12,6))\n",
    "    plt.plot(df['Date'], df['Close'], label='Preço de Fechamento', color='blue')\n",
    "    plt.title('Preço de Fechamento da Ação da Google (2015-2024)')\n",
    "    plt.xlabel('Data')\n",
    "    plt.ylabel('Preço ($)')\n",
    "    plt.grid(True)\n",
    "    plt.legend()\n",
    "    plt.show()"
   ]
  },
  {
   "cell_type": "code",
   "execution_count": null,
   "id": "4532a4bc-bfc0-4d3f-b208-2ec0e503ba58",
   "metadata": {},
   "outputs": [],
   "source": [
    "def media_volume():\n",
    "    df = leitura_csv()\n",
    "    df['month'] = df['Date'].dt.month\n",
    "    df['year'] = df['Date'].dt.year\n",
    "    media = df.groupby(['year', 'month'])['Volume'].mean()\n",
    "\n",
    "    plt.figure(figsize=(15, 7)) \n",
    "    media.plot(kind='bar', color='skyblue') \n",
    "    plt.title('Média Mensal de Volume por Ano')\n",
    "    plt.xlabel('Ano e Mês')\n",
    "    plt.ylabel('Volume Médio')\n",
    "    plt.xticks(rotation=45)\n",
    "    plt.grid(axis='y', linestyle='--', alpha=0.7)\n",
    "    plt.tight_layout()\n",
    "    plt.show()\n"
   ]
  },
  {
   "cell_type": "code",
   "execution_count": null,
   "id": "dd059906-6ae1-4b31-92e2-5cbd23075dbc",
   "metadata": {},
   "outputs": [],
   "source": [
    "def variacao_preço_ano():\n",
    "    df = leitura_csv()\n",
    "    df['year'] = df['Date'].dt.year\n",
    "    variacao = df.groupby('year')['Close'].agg(lambda x: x.max() - x.min())\n",
    "    print(variacao)\n",
    "    plt.figure(figsize=(12,6))\n",
    "    variacao.plot(kind='bar', color='tomato', edgecolor='black')\n",
    "    plt.title('Variação Anual do Preço de Fechamento')\n",
    "    plt.xlabel('Ano')\n",
    "    plt.ylabel('Variação de Preço ($)')\n",
    "    plt.grid(axis='y', linestyle='--', alpha=0.7)\n",
    "    plt.tight_layout()\n",
    "    plt.show()"
   ]
  },
  {
   "cell_type": "code",
   "execution_count": null,
   "id": "a8968233-c62a-4b16-af2c-2ea6e0cc6572",
   "metadata": {},
   "outputs": [],
   "source": [
    "def desvio_padrao():\n",
    "    df = leitura_csv()\n",
    "    df['year'] = df['Date'].dt.year\n",
    "    df['month'] = df['Date'].dt.month\n",
    "    desvio_padrao = df.groupby(['year','month'])['Close'].std().unstack()\n",
    "    print(desvio_padrao)\n",
    "    plt.figure(figsize=(15, 6))\n",
    "    plt.imshow(desvio_padrao, aspect='auto', cmap='hot', interpolation='nearest')\n",
    "    plt.title('Desvio Padrão')\n",
    "    plt.xlabel('Mês')\n",
    "    plt.ylabel('Ano')\n",
    "    plt.colorbar(label='Desvio Padrão')\n",
    "    plt.xticks(ticks=range(12), labels=range(1, 13))\n",
    "    plt.yticks(ticks=range(len(desvio_padrao.index)), labels=desvio_padrao.index)\n",
    "    plt.show()"
   ]
  },
  {
   "cell_type": "code",
   "execution_count": null,
   "id": "a2fcb58d",
   "metadata": {},
   "outputs": [],
   "source": [
    "desvio_padrao()"
   ]
  },
  {
   "cell_type": "code",
   "execution_count": null,
   "id": "0a47b0a6-f8c4-48e3-93ed-f290cad4a414",
   "metadata": {},
   "outputs": [],
   "source": [
    "def analise_de_tendencias():\n",
    "    df = leitura_csv()\n",
    "    df['media_movel'] = df['Close'].rolling(window=30).mean()\n",
    "    print(df['media_movel'])\n",
    "    plt.figure(figsize=(15, 6))\n",
    "    plt.plot(df['Date'], df['Close'], label='Preço de Fechamento', alpha=0.5)\n",
    "    plt.plot(df['Date'], df['media_movel'], label='Média Móvel (30 dias)', color='red')\n",
    "    plt.title('Tendência do Preço de Fechamento com Média Móvel (30 dias)')\n",
    "    plt.xlabel('Data')\n",
    "    plt.ylabel('Preço ($)')\n",
    "    plt.legend()\n",
    "    plt.grid(True)\n",
    "    plt.tight_layout()\n",
    "    plt.show()"
   ]
  },
  {
   "cell_type": "code",
   "execution_count": null,
   "id": "9897b798-2c33-45d7-9560-1c6889027b32",
   "metadata": {},
   "outputs": [],
   "source": [
    "def detecta_anomalias(ano_escolhido=2020):\n",
    "    df = leitura_csv()\n",
    "    df['year'] = df['Date'].dt.year\n",
    "    df = df[df['year'] == ano_escolhido]\n",
    "    df['month'] = df['Date'].dt.month\n",
    "    df['day'] = df['Date'].dt.day\n",
    "    medias = df.groupby(['month', 'day'])['Close'].mean()\n",
    "    desvios = df.groupby(['month', 'day'])['Close'].std()\n",
    "\n",
    "    df['media_dia'] = df.apply(lambda row: medias.loc[(row['month'], row['day'])], axis=1)\n",
    "    df['std_dia'] = df.apply(lambda row: desvios.loc[(row['month'], row['day'])], axis=1)\n",
    "\n",
    "    df['anomalia'] = (df['Close'] > df['media_dia'] + 2 * df['std_dia']) | \\\n",
    "                     (df['Close'] < df['media_dia'] - 2 * df['std_dia'])\n",
    "\n",
    "    plt.figure(figsize=(15, 6))\n",
    "    plt.plot(df['Date'], df['Close'], label='Fechamento')\n",
    "    plt.scatter(df[df['anomalia']]['Date'], df[df['anomalia']]['Close'],\n",
    "                color='red', label='Anomalias', zorder=5)\n",
    "    plt.title(f'Anomalias no Preço de Fechamento em {ano_escolhido}')\n",
    "    plt.xlabel('Data')\n",
    "    plt.ylabel('Preço de Fechamento ($)')\n",
    "    plt.legend()\n",
    "    plt.grid(True)\n",
    "    plt.tight_layout()\n",
    "    plt.show()\n"
   ]
  },
  {
   "cell_type": "code",
   "execution_count": null,
   "id": "295f8d8b",
   "metadata": {},
   "outputs": [],
   "source": [
    "detecta_anomalias()"
   ]
  },
  {
   "cell_type": "code",
   "execution_count": null,
   "id": "80a0296a-e364-4bbd-8548-29cf7f64b48a",
   "metadata": {},
   "outputs": [],
   "source": [
    "def prev_tendencias():\n",
    "    df = leitura_csv()\n",
    "    df['media_curta'] = df['Close'].rolling(window = 20).mean()\n",
    "    df['media_longa'] = df['Close'].rolling(window = 50).mean()\n",
    "    df['compra'] = (df['media_curta'] > df['media_longa']) & (df['media_curta'].shift(1) <= df['media_longa'].shift(1))\n",
    "    df['venda'] = (df['media_curta'] < df['media_longa']) & (df['media_curta'].shift(1) >= df['media_longa'].shift(1))\n",
    "    \n",
    "    plt.figure(figsize=(15,6))\n",
    "    plt.plot(df['Date'], df['Close'], label='Preço Fechamento', color='gray', alpha=0.4)\n",
    "    plt.plot(df['Date'], df['media_curta'], label='Média Curta (20)', color='blue')\n",
    "    plt.plot(df['Date'], df['media_longa'], label='Média Longa (50)', color='orange')\n",
    "\n",
    "    plt.scatter(df.loc[df['compra'], 'Date'], df.loc[df['compra'], 'Close'], label='Compra', marker='^', color='green', s=100)\n",
    "    plt.scatter(df.loc[df['venda'], 'Date'], df.loc[df['venda'], 'Close'], label='Venda', marker='v', color='red', s=100)\n",
    "\n",
    "    plt.title('Análise de Tendência com Médias Móveis')\n",
    "    plt.xlabel('Data')\n",
    "    plt.ylabel('Preço ($)')\n",
    "    plt.legend()\n",
    "    plt.grid(True)\n",
    "    plt.tight_layout()\n",
    "    plt.show()"
   ]
  },
  {
   "cell_type": "code",
   "execution_count": null,
   "id": "cbf13999",
   "metadata": {},
   "outputs": [],
   "source": [
    "prev_tendencias()"
   ]
  },
  {
   "cell_type": "code",
   "execution_count": null,
   "id": "700cda31-6f41-49de-b3bd-47737bceb838",
   "metadata": {},
   "outputs": [],
   "source": [
    "def retorno_diario():\n",
    "    df = leitura_csv()\n",
    "    df['retorno_diario'] = df['Close'].pct_change()\n",
    "    plt.figure(figsize=(10, 6))\n",
    "    plt.hist(df['retorno_diario'].dropna(), bins=50, color='skyblue', edgecolor='black')\n",
    "    plt.title('Distribuição dos Retornos Diários')\n",
    "    plt.xlabel('Retorno Diário (%)')\n",
    "    plt.ylabel('Frequência')\n",
    "    plt.grid(True)\n",
    "    plt.tight_layout()\n",
    "    plt.show()\n",
    "    media = df['retorno_diario'].mean()\n",
    "    desvio = df['retorno_diario'].std()\n",
    "    print(f\"Media:{media}\")\n",
    "    print(f\"Desvio:{desvio}\")"
   ]
  },
  {
   "cell_type": "code",
   "execution_count": null,
   "id": "490fef20",
   "metadata": {},
   "outputs": [],
   "source": [
    "retorno_diario()"
   ]
  },
  {
   "cell_type": "code",
   "execution_count": null,
   "id": "baf497ea-0295-4790-956e-c99445ef1164",
   "metadata": {},
   "outputs": [],
   "source": [
    "def volatilidade_anual():\n",
    "    df = leitura_csv()\n",
    "    df['retorno_diario'] = df['Close'].pct_change()\n",
    "    df['year'] = df['Date'].dt.year\n",
    "    volatilidade_anual = df.groupby('year')['retorno_diario'].std()*np.sqrt(252) #multiplicando pelo numero medio de pregoes(dias uteis da bolsa) por ano\n",
    "    plt.figure(figsize=(12, 6))\n",
    "    volatilidade_anual.plot(kind='bar', color='salmon', edgecolor='black')\n",
    "    plt.title('Volatilidade Anual das Ações')\n",
    "    plt.xlabel('Ano')\n",
    "    plt.ylabel('Volatilidade Anual (Desvio Padrão)')\n",
    "    plt.grid(axis='y', linestyle='--', alpha=0.7)\n",
    "    plt.tight_layout()\n",
    "    plt.show()\n",
    "    return volatilidade_anual"
   ]
  },
  {
   "cell_type": "code",
   "execution_count": null,
   "id": "b489d66d",
   "metadata": {},
   "outputs": [],
   "source": [
    "volatilidade_anual()"
   ]
  },
  {
   "cell_type": "code",
   "execution_count": null,
   "id": "3c40c834-f9e2-4deb-9cc4-afa5bd5099d3",
   "metadata": {},
   "outputs": [],
   "source": [
    "def sharpe_ratio_anual():\n",
    "    df = leitura_csv()\n",
    "    df['retorno_diario'] = df['Close'].pct_change()\n",
    "    df['year'] = df['Date'].dt.year\n",
    "    retorno_medio_anual = df.groupby('year')['retorno_diario'].mean()*253\n",
    "    volatilidade_anual = df.groupby('year')['retorno_diario'].std()*np.sqrt(252)\n",
    "    sharpe_ratio = retorno_medio_anual/volatilidade_anual\n",
    "    print(sharpe_ratio)\n",
    "    plt.figure(figsize=(12, 6))\n",
    "    sharpe_ratio.plot(kind='bar', color='mediumseagreen', edgecolor='black')\n",
    "    plt.title('Sharpe Ratio Anual')\n",
    "    plt.xlabel('Ano')\n",
    "    plt.ylabel('Sharpe Ratio')\n",
    "    plt.axhline(y=1, color='red', linestyle='--', label='Referência: 1.0')\n",
    "    plt.grid(axis='y', linestyle=':', alpha=0.7)\n",
    "    plt.legend()\n",
    "    plt.tight_layout()\n",
    "    plt.show()\n"
   ]
  },
  {
   "cell_type": "code",
   "execution_count": null,
   "id": "3bb93d18",
   "metadata": {},
   "outputs": [],
   "source": [
    "sharpe_ratio_anual()"
   ]
  },
  {
   "cell_type": "code",
   "execution_count": null,
   "id": "9f98a5e7-d255-4d5f-b637-81526fd0f631",
   "metadata": {},
   "outputs": [],
   "source": [
    "def identificar_drawdowns():\n",
    "    df = leitura_csv()\n",
    "    df['retorno_diario'] = df['Close'].pct_change()\n",
    "    df['valor_acumulado'] = (1+df['retorno_diario']).cumprod()\n",
    "    df['pico'] = df['valor_acumulado'].cummax()\n",
    "    df['drawdown'] = (df['valor_acumulado'] - df['pico'])/ df['pico']\n",
    "    print(df['drawdown'])\n",
    "    plt.figure(figsize=(12, 6))\n",
    "    plt.plot(df['Date'], df['valor_acumulado'], label='Valor Acumulado')\n",
    "    plt.fill_between(df['Date'], df['drawdown'], 0, color='red', alpha=0.3, label='Drawdown')\n",
    "    plt.title('Drawdown ao Longo do Tempo')\n",
    "    plt.xlabel('Data')\n",
    "    plt.ylabel('Valor / Drawdown')\n",
    "    plt.legend()\n",
    "    plt.grid(True)\n",
    "    plt.tight_layout()\n",
    "    plt.show()\n"
   ]
  },
  {
   "cell_type": "code",
   "execution_count": null,
   "id": "f7210c38",
   "metadata": {},
   "outputs": [],
   "source": [
    "identificar_drawdowns()"
   ]
  },
  {
   "cell_type": "code",
   "execution_count": 2,
   "id": "c41d837e-366f-4434-865f-37914dc28225",
   "metadata": {},
   "outputs": [],
   "source": [
    "def comparativo_ano_perfomance():\n",
    "    df = leitura_csv()\n",
    "    df['retorno_diario'] = df['Close'].pct_change()\n",
    "    df['year'] = df['Date'].dt.year\n",
    "\n",
    "    retorno_anual = df.groupby('year')['retorno_diario'].mean() * 253\n",
    "    volatilidade_anual = df.groupby('year')['retorno_diario'].std() * np.sqrt(252)\n",
    "    sharpe_ratio = retorno_anual / volatilidade_anual\n",
    "\n",
    "    comparativo = pd.DataFrame({\n",
    "        'Retorno Anual(%)': retorno_anual*100,\n",
    "        'Volatilidade(%)': volatilidade_anual*100,\n",
    "        'Sharpe Ratio': sharpe_ratio\n",
    "    })\n",
    "    comparativo = comparativo.round(2)\n",
    "    print(comparativo)\n",
    "    comparativo[['Retorno Anual(%)', 'Volatilidade(%)']].plot(kind='bar', figsize=(14,6))\n",
    "    plt.title('Comparação de Anos: Retorno vs Volatilidade')\n",
    "    plt.ylabel('Percentual (%)')\n",
    "    plt.grid(axis='y', linestyle='--', alpha=0.7)\n",
    "    plt.tight_layout()\n",
    "    plt.show()\n",
    "\n",
    "    comparativo['Sharpe Ratio'].plot(kind='line', marker='o', color='green', linewidth=2)\n",
    "    plt.title('Sharpe Ratio por Ano')\n",
    "    plt.ylabel('Sharpe Ratio')\n",
    "    plt.grid(True)\n",
    "    plt.tight_layout()\n",
    "    plt.show()"
   ]
  },
  {
   "cell_type": "code",
   "execution_count": 3,
   "id": "a664ea83-3906-4c04-a262-22b84d098811",
   "metadata": {},
   "outputs": [
    {
     "name": "stdout",
     "output_type": "stream",
     "text": [
      "      Retorno Anual(%)  Volatilidade(%)  Sharpe Ratio\n",
      "year                                                 \n",
      "2015             42.84            28.93          1.48\n",
      "2016              3.88            20.13          0.19\n",
      "2017             29.88            15.29          1.95\n",
      "2018              3.19            28.20          0.11\n",
      "2019             27.73            23.69          1.17\n",
      "2020             34.33            38.45          0.89\n",
      "2021             53.45            24.31          2.20\n",
      "2022            -42.46            38.65         -1.10\n",
      "2023             51.16            30.35          1.69\n",
      "2024             34.45            28.05          1.23\n"
     ]
    },
    {
     "data": {
      "image/png": "[encoded data removed]",
      "text/plain": [
       "<Figure size 1400x600 with 1 Axes>"
      ]
     },
     "metadata": {},
     "output_type": "display_data"
    },
    {
     "data": {
      "image/png": "[encoded data removed]",
      "text/plain": [
       "<Figure size 640x480 with 1 Axes>"
      ]
     },
     "metadata": {},
     "output_type": "display_data"
    }
   ],
   "source": [
    "comparativo_ano_perfomance()"
   ]
  },
  {
   "cell_type": "code",
   "execution_count": null,
   "id": "1c3975ac-cde0-4752-86ee-faf20eea1f79",
   "metadata": {},
   "outputs": [],
   "source": [
    "def melhores_piores_dias():\n",
    "    df = leitura_csv()\n",
    "    df['retorno_diario'] = df['Close'].pct_change()\n",
    "    df['year'] = df['Date'].dt.year\n",
    "\n",
    "    melhores_idx = df.groupby('year')['retorno_diario'].idxmax()\n",
    "    melhores_dias = df.loc[melhores_idx, ['Date', 'year', 'retorno_diario', 'Close']]\n",
    "    print(\"Melhores dias por ano:\")\n",
    "    print(melhores_dias.sort_values('year'))\n",
    "\n",
    "    piores_idx = df.groupby('year')['retorno_diario'].idxmin()\n",
    "    piores_dias = df.loc[piores_idx, ['Date', 'year', 'retorno_diario', 'Close']]\n",
    "    print(\"\\nPiores dias por ano:\")\n",
    "    print(piores_dias.sort_values('year'))\n",
    "    plt.figure(figsize=(14, 6))\n",
    "    plt.scatter(melhores_dias['Date'], melhores_dias['retorno_diario'] * 100, color='green', label='Melhores Dias')\n",
    "    plt.scatter(piores_dias['Date'], piores_dias['retorno_diario'] * 100, color='red', label='Piores Dias')\n",
    "    plt.axhline(0, color='gray', linestyle='--')\n",
    "    plt.title('Melhores e Piores Dias por Ano (% Retorno Diário)')\n",
    "    plt.xlabel('Data')\n",
    "    plt.ylabel('Retorno Diário (%)')\n",
    "    plt.legend()\n",
    "    plt.grid(True)\n",
    "    plt.tight_layout()\n",
    "    plt.show()()\n"
   ]
  },
  {
   "cell_type": "code",
   "execution_count": null,
   "id": "935770ad-b19e-4903-acf2-950813ba32fa",
   "metadata": {},
   "outputs": [],
   "source": [
    "def padroes_mensais(): #Identificar Padrões Sazonais Mensais nos Retornos\n",
    "    df = leitura_csv()\n",
    "    df['month'] = df['Date'].dt.month\n",
    "    df['retorno_diario'] = df['Close'].pct_change()\n",
    "    retorno_medio_mensal = df.groupby('month')['retorno_diario'].mean()*100\n",
    "    plt.figure(figsize=(12, 6))\n",
    "    retorno_medio_mensal.plot(kind='bar', color='cornflowerblue', edgecolor='black')\n",
    "    plt.title('Retorno Médio por Mês')\n",
    "    plt.xlabel('Mês')\n",
    "    plt.ylabel('Retorno Médio (%)')\n",
    "    plt.grid(axis='y', linestyle='--', alpha=0.6)\n",
    "    plt.xticks(ticks=range(0, 12), labels=[\n",
    "        'Jan', 'Fev', 'Mar', 'Abr', 'Mai', 'Jun',\n",
    "        'Jul', 'Ago', 'Set', 'Out', 'Nov', 'Dez'\n",
    "    ], rotation=0)\n",
    "    plt.tight_layout()\n",
    "    plt.show()"
   ]
  },
  {
   "cell_type": "code",
   "execution_count": null,
   "id": "0b37d7ca-e261-40f9-84ff-1c7b7cbe2edf",
   "metadata": {},
   "outputs": [],
   "source": [
    "\n",
    "def calculo_RSI(close, window=14):\n",
    "    retorno = close.diff()\n",
    "    ganhos = retorno.apply(lambda x: x if x > 0 else 0)\n",
    "    perdas = retorno.apply(lambda x: -x if x < 0 else 0)\n",
    "\n",
    "    media_ganhos = ganhos.rolling(window=window).mean()\n",
    "    media_perdas = perdas.rolling(window=window).mean()\n",
    "\n",
    "    RS = media_ganhos / media_perdas\n",
    "    RSI = 100 - (100 / (1 + RS))\n",
    "\n",
    "\n",
    "    return RSI\n"
   ]
  },
  {
   "cell_type": "code",
   "execution_count": null,
   "id": "b4ac3167",
   "metadata": {},
   "outputs": [],
   "source": [
    "def calculate_MACD(series, fast=12, slow=26, signal=9):\n",
    "    ema_fast = series.ewm(span=fast, adjust=False).mean()\n",
    "    ema_slow = series.ewm(span=slow, adjust=False).mean()\n",
    "    macd = ema_fast - ema_slow\n",
    "    signal_line = macd.ewm(span=signal, adjust=False).mean()\n",
    "    return macd - signal_line"
   ]
  },
  {
   "cell_type": "code",
   "execution_count": null,
   "id": "fc1df3ae-207a-48d8-873c-54c9d6d54c17",
   "metadata": {},
   "outputs": [],
   "source": [
    "import pandas as pd\n",
    "import numpy as np\n",
    "import matplotlib.pyplot as plt\n",
    "from xgboost import XGBClassifier\n",
    "from imblearn.over_sampling import ADASYN\n",
    "from sklearn.metrics import accuracy_score, confusion_matrix\n",
    "\n",
    "def random_forest_xgboost(anos_prev=10, threshold=0.5):\n",
    "    df = leitura_csv()  \n",
    "    df['Date'] = pd.to_datetime(df['Date'])\n",
    "    df.set_index('Date', inplace=True)\n",
    "\n",
    "    \n",
    "    df['Return'] = df['Close'].pct_change()\n",
    "    df['SMA5'] = df['Close'].rolling(5).mean()\n",
    "    df['SMA10'] = df['Close'].rolling(10).mean()\n",
    "    df['SMA20'] = df['Close'].rolling(20).mean()\n",
    "    df['SMA50'] = df['Close'].rolling(50).mean()\n",
    "    df['EMA10'] = df['Close'].ewm(span=10, adjust=False).mean()\n",
    "    df['EMA20'] = df['Close'].ewm(span=20, adjust=False).mean()\n",
    "    df['RSI14'] = calculo_RSI(df['Close'])\n",
    "    df['MACD'] = calculate_MACD(df['Close'])\n",
    "    df['Momentum'] = df['Close'] / df['Close'].shift(10) - 1\n",
    "    df['Volatility'] = df['Return'].rolling(20).std()\n",
    "    df['Return_1'] = df['Return'].shift(1)\n",
    "    df['Return_2'] = df['Return'].shift(2)\n",
    "    df['Target'] = (df['Return'].shift(-1) > 0).astype(int)\n",
    "    \n",
    "    df = df.dropna()\n",
    "\n",
    "    split = int(len(df) * 0.8)\n",
    "    X = df.drop(['Target'], axis=1).select_dtypes(include=[np.number])\n",
    "    y = df['Target']\n",
    "    X_train, X_test = X.iloc[:split], X.iloc[split:]\n",
    "    y_train, y_test = y.iloc[:split], y.iloc[split:]\n",
    "\n",
    "    adasyn = ADASYN(random_state=42)\n",
    "    X_res, y_res = adasyn.fit_resample(X_train, y_train)\n",
    "\n",
    "    model = XGBClassifier(\n",
    "        n_estimators=1000,\n",
    "        max_depth=6,\n",
    "        learning_rate=0.05,\n",
    "        subsample=0.8,\n",
    "        colsample_bytree=0.8,\n",
    "        eval_metric='logloss',\n",
    "        use_label_encoder=False,\n",
    "        random_state=42\n",
    "    )\n",
    "    model.fit(X_res, y_res)\n",
    "\n",
    "    probs = model.predict_proba(X_test)[:,1]\n",
    "    y_pred = (probs >= threshold).astype(int)\n",
    "    acc = accuracy_score(y_test, y_pred)\n",
    "    mat = confusion_matrix(y_test, y_pred)\n",
    "    print(f\"Acurácia ajustada: {acc*100:.2f}%\")\n",
    "    print(\"Matriz de confusão:\\n\", mat)\n",
    "\n",
    "    previsoes, probabilidades, direcoes, datas_prev = [], [], [], []\n",
    "    last_date = df.index[-1]\n",
    "    ultimo_preco = df['Close'].iloc[-1]\n",
    "\n",
    "    for i in range(anos_prev):\n",
    "        ultima_linha = df.iloc[[-1]].copy()\n",
    "        X_input = ultima_linha.drop(['Target'], axis=1).select_dtypes(include=[np.number])\n",
    "\n",
    "        prob_alta = model.predict_proba(X_input)[0][1]\n",
    "        movimento = \"Alta\" if prob_alta >= threshold else \"Queda\"\n",
    "\n",
    "        peso = np.clip((prob_alta - 0.5) * 2, -0.8, 0.8)\n",
    "        retorno_simulado = np.random.normal(df['Return'].mean(), df['Return'].std()) * peso\n",
    "        novo_preco = ultimo_preco * (1 + retorno_simulado)\n",
    "\n",
    "        nova_data = last_date + pd.DateOffset(months=i+1)\n",
    "        previsoes.append(novo_preco)\n",
    "        probabilidades.append(prob_alta * 100)\n",
    "        direcoes.append(movimento)\n",
    "        datas_prev.append(nova_data)\n",
    "\n",
    "        ultima_linha['Close'] = novo_preco\n",
    "        ultima_linha['Return'] = retorno_simulado\n",
    "        df.loc[nova_data] = ultima_linha.iloc[0]\n",
    "\n",
    "        ultimo_preco = novo_preco\n",
    "        last_date = nova_data\n",
    "\n",
    "    plt.figure(figsize=(14,7))\n",
    "    plt.plot(df.index, df['Close'], label='Histórico', color='blue')\n",
    "    for idx, (data, preco, prob, mov) in enumerate(zip(datas_prev, previsoes, probabilidades, direcoes)):\n",
    "        cor = 'green' if mov == 'Alta' else 'red'\n",
    "        label = f'{mov} ({prob:.1f}%)' if idx == 0 else None\n",
    "        plt.scatter(data, preco, color=cor, s=100, label=label)\n",
    "    plt.title(f'Previsão - Próximos {anos_prev} anos')\n",
    "    plt.xlabel(\"Data\")\n",
    "    plt.ylabel(\"Preço ($)\")\n",
    "    plt.legend()\n",
    "    plt.grid(True)\n",
    "    plt.show()\n",
    "\n",
    "    return pd.DataFrame({\n",
    "        \"Data\": datas_prev,\n",
    "        \"Preço Previsto\": previsoes,\n",
    "        \"Probabilidade de Alta (%)\": np.round(probabilidades, 2),\n",
    "        \"Direção Prevista\": direcoes\n",
    "    })\n"
   ]
  },
  {
   "cell_type": "code",
   "execution_count": null,
   "id": "f947e752",
   "metadata": {},
   "outputs": [],
   "source": [
    "random_forest()"
   ]
  },
  {
   "cell_type": "code",
   "execution_count": null,
   "id": "21603214",
   "metadata": {},
   "outputs": [],
   "source": []
  }
 ],
 "metadata": {
  "kernelspec": {
   "display_name": "Python [conda env:base] *",
   "language": "python",
   "name": "conda-base-py"
  },
  "language_info": {
   "codemirror_mode": {
    "name": "ipython",
    "version": 3
   },
   "file_extension": ".py",
   "mimetype": "text/x-python",
   "name": "python",
   "nbconvert_exporter": "python",
   "pygments_lexer": "ipython3",
   "version": "3.12.7"
  }
 },
 "nbformat": 4,
 "nbformat_minor": 5
}
