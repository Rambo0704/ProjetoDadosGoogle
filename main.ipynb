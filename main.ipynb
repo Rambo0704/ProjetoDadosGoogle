{
 "cells": [
  {
   "cell_type": "code",
   "execution_count": 1,
   "id": "b645f87f-1150-43d5-bc29-db9985d123b7",
   "metadata": {},
   "outputs": [
    {
     "ename": "ModuleNotFoundError",
     "evalue": "No module named 'pandas'",
     "output_type": "error",
     "traceback": [
      "\u001b[1;31m---------------------------------------------------------------------------\u001b[0m",
      "\u001b[1;31mModuleNotFoundError\u001b[0m                       Traceback (most recent call last)",
      "Cell \u001b[1;32mIn[1], line 1\u001b[0m\n\u001b[1;32m----> 1\u001b[0m \u001b[38;5;28;01mimport\u001b[39;00m\u001b[38;5;250m \u001b[39m\u001b[38;5;21;01mpandas\u001b[39;00m\u001b[38;5;250m \u001b[39m\u001b[38;5;28;01mas\u001b[39;00m\u001b[38;5;250m \u001b[39m\u001b[38;5;21;01mpd\u001b[39;00m\n",
      "\u001b[1;31mModuleNotFoundError\u001b[0m: No module named 'pandas'"
     ]
    }
   ],
   "source": [
    "import pandas as pd"
   ]
  },
  {
   "cell_type": "code",
   "execution_count": null,
   "id": "09aed0c7-835f-49a0-bab2-3703ddf30ba5",
   "metadata": {},
   "outputs": [],
   "source": [
    "def leitura_csv():\n",
    "    df = pd.read_csv(\"GoogleStockPrices.csv\")\n",
    "    df['Date'] = pd.to_datetime(df['Date'])\n",
    "    return df"
   ]
  },
  {
   "cell_type": "code",
   "execution_count": null,
   "id": "642aae3f-9085-428b-a167-8d7f01a79140",
   "metadata": {},
   "outputs": [],
   "source": [
    "def qualidade_dados():\n",
    "    df = leitura_csv()\n",
    "    print(f\"Nulos:\\n{df.isna().sum()}\")\n",
    "    print(f\" duplicados: {df.duplicated().sum()}\")\n",
    "    print(f\"{(df[['Open','High','Low','Close','Volume']]<0).sum()}\")\n",
    "    print(f\"Inconsistencia:\\n{df[df['High'] < df['Low']]}\")"
   ]
  },
  {
   "cell_type": "code",
   "execution_count": null,
   "id": "bd06a241-01f7-4454-b937-212d550c1a81",
   "metadata": {},
   "outputs": [],
   "source": [
    "def estatisticas_descritivas():\n",
    "    df = leitura_csv()\n",
    "    print(df[['Open','High','Low','Close','Volume']].describe())\n",
    "    print(f\"Datas:\\n Minima:{df['Date'].min()}\\n Maxima:{df['Date'].max()}\")"
   ]
  },
  {
   "cell_type": "code",
   "execution_count": null,
   "id": "fbf90df4",
   "metadata": {},
   "outputs": [],
   "source": []
  }
 ],
 "metadata": {
  "kernelspec": {
   "display_name": "google_env",
   "language": "python",
   "name": "python3"
  },
  "language_info": {
   "codemirror_mode": {
    "name": "ipython",
    "version": 3
   },
   "file_extension": ".py",
   "mimetype": "text/x-python",
   "name": "python",
   "nbconvert_exporter": "python",
   "pygments_lexer": "ipython3",
   "version": "3.10.18"
  }
 },
 "nbformat": 4,
 "nbformat_minor": 5
}
