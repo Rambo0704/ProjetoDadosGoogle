{
 "cells": [
  {
   "cell_type": "code",
   "execution_count": 1,
   "id": "b645f87f-1150-43d5-bc29-db9985d123b7",
   "metadata": {},
   "outputs": [],
   "source": [
    "import pandas as pd"
   ]
  },
  {
   "cell_type": "code",
   "execution_count": 2,
   "id": "09aed0c7-835f-49a0-bab2-3703ddf30ba5",
   "metadata": {},
   "outputs": [],
   "source": [
    "def leitura_csv():\n",
    "    df = pd.read_csv(\"GoogleStockPrices.csv\")\n",
    "    df['Date'] = pd.to_datetime(df['Date'])\n",
    "    return df"
   ]
  },
  {
   "cell_type": "code",
   "execution_count": 3,
   "id": "642aae3f-9085-428b-a167-8d7f01a79140",
   "metadata": {},
   "outputs": [],
   "source": [
    "def qualidade_dados():\n",
    "    df = leitura_csv()\n",
    "    print(f\"Nulos:\\n{df.isna().sum()}\")\n",
    "    print(f\" duplicados: {df.duplicated().sum()}\")\n",
    "    print(f\"{(df[['Open','High','Low','Close','Volume']]<0).sum()}\")\n",
    "    print(f\"Inconsistencia:\\n{df[df['High'] < df['Low']]}\")"
   ]
  },
  {
   "cell_type": "code",
   "execution_count": 6,
   "id": "bd06a241-01f7-4454-b937-212d550c1a81",
   "metadata": {},
   "outputs": [],
   "source": [
    "def estatisticas_descritivas():\n",
    "    df = leitura_csv()\n",
    "    print(df[['Open','High','Low','Close','Volume']].describe())\n",
    "    print(f\"Datas:\\n Minima:{df['Date'].min()}\\n Maxima:{df['Date'].max()}\")"
   ]
  }
 ],
 "metadata": {
  "kernelspec": {
   "display_name": "Python 3 (ipykernel)",
   "language": "python",
   "name": "python3"
  },
  "language_info": {
   "codemirror_mode": {
    "name": "ipython",
    "version": 3
   },
   "file_extension": ".py",
   "mimetype": "text/x-python",
   "name": "python",
   "nbconvert_exporter": "python",
   "pygments_lexer": "ipython3",
   "version": "3.12.7"
  }
 },
 "nbformat": 4,
 "nbformat_minor": 5
}
